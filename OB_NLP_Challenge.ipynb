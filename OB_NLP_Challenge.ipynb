{
 "cells": [
  {
   "cell_type": "markdown",
   "metadata": {},
   "source": [
    "# Economic Sectors NLP Challenge\n",
    "## Oliver Bamford"
   ]
  },
  {
   "cell_type": "code",
   "execution_count": 34,
   "metadata": {},
   "outputs": [],
   "source": [
    "import pandas as pd\n",
    "import numpy as np\n",
    "import time"
   ]
  },
  {
   "cell_type": "markdown",
   "metadata": {},
   "source": [
    "# Preprocessing\n",
    "We begin by preprocessing our data. This includes: replacing hyphens with whitespaces, splitting paragraphs into arrays of words (tokenising), and making all characters lower case (to avoid 'company' being treated differently to 'Company', for example). Certainly in some applications, such as author recognition, punctuation may be a useful indicator, but there is no intuitive reason for punctuation to be an indicator of business sector, so we remove all punctuation from our texts."
   ]
  },
  {
   "cell_type": "code",
   "execution_count": 35,
   "metadata": {},
   "outputs": [
    {
     "data": {
      "text/html": [
       "<div>\n",
       "<style scoped>\n",
       "    .dataframe tbody tr th:only-of-type {\n",
       "        vertical-align: middle;\n",
       "    }\n",
       "\n",
       "    .dataframe tbody tr th {\n",
       "        vertical-align: top;\n",
       "    }\n",
       "\n",
       "    .dataframe thead th {\n",
       "        text-align: right;\n",
       "    }\n",
       "</style>\n",
       "<table border=\"1\" class=\"dataframe\">\n",
       "  <thead>\n",
       "    <tr style=\"text-align: right;\">\n",
       "      <th></th>\n",
       "      <th>Identifier</th>\n",
       "      <th>Company Name</th>\n",
       "      <th>Business Description</th>\n",
       "      <th>TRBC Economic Sector Name</th>\n",
       "    </tr>\n",
       "  </thead>\n",
       "  <tbody>\n",
       "    <tr>\n",
       "      <th>6667</th>\n",
       "      <td>0157.HK</td>\n",
       "      <td>Natural Beauty Bio-Technology Ltd</td>\n",
       "      <td>Natural Beauty Bio-Technology Limited is a Hon...</td>\n",
       "      <td>Consumer Non-Cyclicals</td>\n",
       "    </tr>\n",
       "    <tr>\n",
       "      <th>10090</th>\n",
       "      <td>4581.T</td>\n",
       "      <td>Taisho Pharmaceutical Holdings Co Ltd</td>\n",
       "      <td>TAISHO PHARMACEUTICAL HOLDINGS CO., LTD. is a ...</td>\n",
       "      <td>Healthcare</td>\n",
       "    </tr>\n",
       "    <tr>\n",
       "      <th>9082</th>\n",
       "      <td>8963.T</td>\n",
       "      <td>Invincible Investment Corp</td>\n",
       "      <td>Invincible Investment Corporation is a Japan-b...</td>\n",
       "      <td>Financials</td>\n",
       "    </tr>\n",
       "    <tr>\n",
       "      <th>7843</th>\n",
       "      <td>2232.HK</td>\n",
       "      <td>Crystal International Group Ltd</td>\n",
       "      <td>Crystal International Group Limited is a compa...</td>\n",
       "      <td>Consumer Cyclicals</td>\n",
       "    </tr>\n",
       "  </tbody>\n",
       "</table>\n",
       "</div>"
      ],
      "text/plain": [
       "      Identifier                           Company Name  \\\n",
       "6667     0157.HK      Natural Beauty Bio-Technology Ltd   \n",
       "10090     4581.T  Taisho Pharmaceutical Holdings Co Ltd   \n",
       "9082      8963.T             Invincible Investment Corp   \n",
       "7843     2232.HK        Crystal International Group Ltd   \n",
       "\n",
       "                                    Business Description  \\\n",
       "6667   Natural Beauty Bio-Technology Limited is a Hon...   \n",
       "10090  TAISHO PHARMACEUTICAL HOLDINGS CO., LTD. is a ...   \n",
       "9082   Invincible Investment Corporation is a Japan-b...   \n",
       "7843   Crystal International Group Limited is a compa...   \n",
       "\n",
       "      TRBC Economic Sector Name  \n",
       "6667     Consumer Non-Cyclicals  \n",
       "10090                Healthcare  \n",
       "9082                 Financials  \n",
       "7843         Consumer Cyclicals  "
      ]
     },
     "execution_count": 35,
     "metadata": {},
     "output_type": "execute_result"
    }
   ],
   "source": [
    "businessData = pd.read_excel('Data_ML.xlsx')\n",
    "# randomise rows -- just in case data is ordered\n",
    "businessData = businessData.sample(frac=1)\n",
    "businessData[1:5] # take a look at our data"
   ]
  },
  {
   "cell_type": "code",
   "execution_count": 36,
   "metadata": {},
   "outputs": [],
   "source": [
    "# nicer names\n",
    "businessData.columns = ['Identifier', 'Company Name', 'busDesc', 'econSec']\n",
    "# make everything lower case\n",
    "businessData.busDesc = businessData.busDesc.str.lower()\n",
    "# replace hyphens with whitespaces\n",
    "businessData.busDesc = businessData.busDesc.str.replace('-',' ')\n",
    "# remove punctuation, the RE specifies any character which is not alphanumeric\n",
    "# or a whitespace to be replaced with nothing\n",
    "# faster ways to do this exist, but take up a lot of memory\n",
    "businessData.busDesc = businessData.busDesc.str.replace(r'[^\\w\\s]+', '')\n",
    "# remove numbers\n",
    "businessData.busDesc = businessData.busDesc.str.replace(r'[\\d]+', '')\n",
    "# separate descriptions into individual words\n",
    "businessData.busDesc = businessData.busDesc.str.split()\n",
    "# remove NaN values for good measure\n",
    "businessData = businessData.dropna()"
   ]
  },
  {
   "cell_type": "markdown",
   "metadata": {},
   "source": [
    "Next, we split our data into a training set and a test set. Here, 1/5th of the data is used to train, though this can be easily modified by changing the 'trainF' integer."
   ]
  },
  {
   "cell_type": "code",
   "execution_count": 37,
   "metadata": {},
   "outputs": [],
   "source": [
    "#TODO: map sectors to integers (faster comparisons)\n",
    "nData = businessData.shape[0]\n",
    "trainF = 5 # fraction of data to use as training set -- 2 corresponds to 1/2\n",
    "\n",
    "trainData = businessData.iloc[0:int(nData/trainF), 2:4]\n",
    "testData = businessData.iloc[int(nData/trainF):, 2:4]\n",
    "nTrain = trainData.shape[0]\n",
    "nTest = testData.shape[0]"
   ]
  },
  {
   "cell_type": "markdown",
   "metadata": {},
   "source": [
    "We build an initial _vocabulary_, a list of words we consider in training, by concatenating all descriptions and making use of the fast 'pandas.unique()' function."
   ]
  },
  {
   "cell_type": "code",
   "execution_count": 38,
   "metadata": {},
   "outputs": [],
   "source": [
    "# concatenate all descriptions into one array (word by word) and then remove repeats\n",
    "vocab = pd.unique(np.concatenate(trainData.busDesc.values))\n",
    "Vsize = vocab.shape[0]"
   ]
  },
  {
   "cell_type": "markdown",
   "metadata": {},
   "source": [
    "As is common in many NLP tasks, we build a term-document matrix."
   ]
  },
  {
   "cell_type": "code",
   "execution_count": 39,
   "metadata": {},
   "outputs": [
    {
     "name": "stdout",
     "output_type": "stream",
     "text": [
      "term-document matrix filled in 0.3022034168243408 seconds\n"
     ]
    }
   ],
   "source": [
    "t0 = time.time()\n",
    "# get array of sectors\n",
    "sectors = trainData.econSec.unique()\n",
    "N = sectors.shape[0]\n",
    "f = np.zeros((Vsize, N)) # frequency of term t appearing in sector s\n",
    "\n",
    "# calculate MLE prior probability of any given business being in each sector\n",
    "nSec = np.zeros(N) # number of words in each economic sector\n",
    "\n",
    "for s, sec in enumerate(sectors):\n",
    "    secData = trainData[trainData.econSec == sec]\n",
    "    # merge all descriptions into one series of words\n",
    "    sec_text = pd.Series(np.concatenate(secData.busDesc.values).ravel())\n",
    "    # calculate priors\n",
    "    nSec[s] = sec_text.size\n",
    "    # list of unique words and the amount of times they appear\n",
    "    word_occurences = sec_text.value_counts()\n",
    "    # words which do not appear in text return NaN, so fillna() is used to replace NaN with 0\n",
    "    f[:,s] = word_occurences.reindex(vocab).fillna(0).values\n",
    "print('term-document matrix filled in ' + str(time.time() - t0) + ' seconds')"
   ]
  },
  {
   "cell_type": "markdown",
   "metadata": {},
   "source": [
    "Finally, we remove some words which we believe will be either un-impactful, or have a negative impact on our predictions. "
   ]
  },
  {
   "cell_type": "code",
   "execution_count": 40,
   "metadata": {},
   "outputs": [],
   "source": [
    "# vector containing the number of documents each word in our vocabulary appears in\n",
    "term_rarity = (f > 0).sum(axis=1)\n",
    "# remove terms which appear in 9 or 10 of the given sectors, or in only one sector\n",
    "vocab = vocab[(term_rarity < N-1) * (term_rarity > 1)]\n",
    "f = f[(term_rarity < N-1) * (term_rarity > 1), :]"
   ]
  },
  {
   "cell_type": "markdown",
   "metadata": {},
   "source": [
    "# Model Training\n",
    "Now that we have finished preprocessing, we are ready to train an NLP model. We choose the _Naive Bayes classifier_, which can be derived directly from Bayes' theorem:\n",
    "$$p(S_j|d) = \\frac{p(S_j)p(d|S_j)}{p(d)},$$\n",
    "where $S_j, j=1,\\dots,N$ are economic sectors and $d$ is a business description. Making the assumption that the conditional probabilities of terms appearing in descriptions from any given sector are independent of one another, we may expand (using the chain rule and then independence assumption):\n",
    "$$p(d|S_j) = p(t_1|S_j)p(t_2|S_j)\\dots p(t_n|S_j) = \\Pi_{i=1}^n p(t_i|S_j),$$\n",
    "where $t_i, i=1,\\dots,n$ are the terms in our vocabulary. Additionally, we ignore the numerator $p(d)$ as it is the same for any $S_j$ and therefore does not affect our posterior $p(S_j|d)$. Our classifcation then consists of computing\n",
    "$$p(S_j|d) \\propto p(S_j)\\Pi_{i=1}^n p(t_i|S_j)$$\n",
    "for $j = 1,\\dots,N$, and then selecting the economic sector with the largest posterior -- the maximum a-posteriori estimate (MAP).\n",
    "\n",
    "The prior $p(S_j)$ is given by the number of businesses in sector $S_j$ divided by the total number of businesses (in our training data). The conditional probabilities $p(t_i|S_j)$ are given by the number of times the term $t_i$ appears in sector $S_j$, divided by the total number of sectors. However, as this can produce zero values which can, in some cases, ruin predictions, we use Laplace smoothing:\n",
    "$$p(t_i|S_j) = \\frac{f_{ij} + 1}{\\sum_{i'=1}^n(f_{i'j} + 1)},$$\n",
    "where $f$ is a term-document matrix. These quantities are calculated below:"
   ]
  },
  {
   "cell_type": "code",
   "execution_count": 41,
   "metadata": {},
   "outputs": [],
   "source": [
    "# estimate of p(term|sec) (using Laplace smoothing)\n",
    "priors = nSec/float(nTrain)\n",
    "condProb = (f + 1)/(nSec + Vsize)\n",
    "\n",
    "#tf-idf: another popular quantity in NLP, though we do not use it here \n",
    "tf = 0.5 + 0.5*f/f.max(axis=0) # f.max(axis=0) returns the highest frequency of any term in each sector\n",
    "idf = np.log(float(N) / (f > 0).sum(axis=1))\n",
    "tf_idf = tf*idf[:,None]"
   ]
  },
  {
   "cell_type": "markdown",
   "metadata": {},
   "source": [
    "# Model Testing\n",
    "In practise, multiplying many decimal values can cause large floating-point errors, so it is common to take the log posterior and use that instead:\n",
    "$$\\log p(S_j|d) \\propto \\log p(S_j) + \\sum_{i=1}^n \\log p(t_i|S_j).$$\n",
    "A function which calculates this for each sector, and returns the most likely sector is defined below:"
   ]
  },
  {
   "cell_type": "code",
   "execution_count": 42,
   "metadata": {},
   "outputs": [],
   "source": [
    "def predict_sector_NB(desc, vocab, vocab_dict, condProb, priors, sectors):\n",
    "    \"\"\"\n",
    "    Uses Naive Bayes classification with maximimum a-posteriori estimate \n",
    "    to predict the sector of the business with description 'desc'\n",
    "    Inputs:\n",
    "    desc (array-like): description, separated into words\n",
    "    vocab (array-like): list of every word in vocab\n",
    "    vocab_dict (dictionary): dictionary linking every word in our vocabulary to an index\n",
    "    condProb (np array): conditional probability array C_{ij} = p(vocab[i]|sector[j])\n",
    "    priors (np array): prior probabilities for each sector p(S_i)\n",
    "    sectors (array-like): list of every possible sector\n",
    "    \n",
    "    Outputs:\n",
    "    Sector of highest likelihood given business description\n",
    "    \"\"\"\n",
    "    # remove words which are not in our vocabulary\n",
    "    desc = set(desc).intersection(set(vocab)) \n",
    "    # get vocab indexes of each word in desc\n",
    "    indexes = [vocab_dict[word] for word in desc]\n",
    "    # calculate log-posteriors\n",
    "    log_prob_sec = np.log(priors) + np.log(condProb[indexes,:]).sum(axis=0)\n",
    "    return sectors[log_prob_sec.argmax()]"
   ]
  },
  {
   "cell_type": "markdown",
   "metadata": {},
   "source": [
    "Now we just need to apply this function to each description in our training set."
   ]
  },
  {
   "cell_type": "code",
   "execution_count": 43,
   "metadata": {},
   "outputs": [
    {
     "name": "stdout",
     "output_type": "stream",
     "text": [
      "Predicting test data...\n",
      "Predictions complete in 7.92408299446106 seconds, with accuracy: 75.25789988055163%\n"
     ]
    }
   ],
   "source": [
    "# construct dictionary of form word:index\n",
    "vocab_dict = {term:t for t,term in enumerate(vocab)} \n",
    "testDesc = testData.busDesc\n",
    "# apply prediction function to every description\n",
    "t0 = time.time()\n",
    "print('Predicting test data...')\n",
    "testPredictMLE = testDesc.apply(lambda desc: predict_sector_NB(desc, vocab, vocab_dict, condProb, priors, sectors))\n",
    "accuracyTotal = float((testPredictMLE.values == testData.econSec.values).sum()) / testPredictMLE.size * 100\n",
    "print('Predictions complete in ' + str(time.time()-t0) + ' seconds, with accuracy: ' + str(accuracyTotal) + '%')"
   ]
  },
  {
   "cell_type": "markdown",
   "metadata": {},
   "source": [
    "It may be useful to see how accurately our model predicts each sector, i.e. the probability a business is in sector $S_j$ given our model predicts it is in sector $S_j$. This way we can see if any sectors are commonly mis-classified."
   ]
  },
  {
   "cell_type": "code",
   "execution_count": 44,
   "metadata": {
    "scrolled": true
   },
   "outputs": [
    {
     "data": {
      "image/png": "[encoded data removed]",
      "text/plain": [
       "<Figure size 864x720 with 1 Axes>"
      ]
     },
     "metadata": {},
     "output_type": "display_data"
    }
   ],
   "source": [
    "# calculate sector-specific accuracy\n",
    "accuracy = np.zeros(N)\n",
    "for s,sec in enumerate(sectors):\n",
    "    secPredicts = (testPredictMLE.values == sec)\n",
    "    accuracy[s] = float(((testPredictMLE.values == testData.econSec.values)*secPredicts).sum()) / secPredicts.sum() * 100\n",
    "\n",
    "import matplotlib.pyplot as plt\n",
    "plt.figure(figsize=(12,10))\n",
    "plt.bar(range(0, 2*(N+1), 2),np.append(accuracy,accuracyTotal))\n",
    "plt.title('Percentage of correct predictions for each business sector')\n",
    "plt.xlabel('Predicted business sector')\n",
    "plt.ylabel('Accuracy (%)')\n",
    "plt.xticks(range(0,2*(N+1),2), np.append(sectors,'Total'), rotation='vertical')\n",
    "plt.show()"
   ]
  },
  {
   "cell_type": "markdown",
   "metadata": {},
   "source": [
    "We find that our model is correct nearly 90% of the time when it predicts the sector to be 'Healthcare' or 'Financials', but is correct only ~65% of the time when it predicts 'Technology' or 'Industrials'. The discrepancy here could be due to a difference in the number of unique keywords broadly associated with each of these industries. It may also be due to the fact that businesses in many industries are likely to include technological keywords in their descriptions, leading to misclassifications."
   ]
  }
 ],
 "metadata": {
  "kernelspec": {
   "display_name": "Python 2",
   "language": "python",
   "name": "python2"
  },
  "language_info": {
   "codemirror_mode": {
    "name": "ipython",
    "version": 3
   },
   "file_extension": ".py",
   "mimetype": "text/x-python",
   "name": "python",
   "nbconvert_exporter": "python",
   "pygments_lexer": "ipython3",
   "version": "3.6.6"
  }
 },
 "nbformat": 4,
 "nbformat_minor": 2
}
